{
  "cells": [
    {
      "cell_type": "markdown",
      "metadata": {
        "id": "view-in-github",
        "colab_type": "text"
      },
      "source": [
        "<a href=\"https://colab.research.google.com/github/shannonshih/Tibame_GAD245-Practice-HW_0109/blob/main/01_Numpy.ipynb\" target=\"_parent\"><img src=\"https://colab.research.google.com/assets/colab-badge.svg\" alt=\"Open In Colab\"/></a>"
      ]
    },
    {
      "cell_type": "markdown",
      "metadata": {
        "id": "86SOUFSsxDwd"
      },
      "source": [
        "# Numpy\n",
        "\n",
        "* 參考 Python DataScience Handbook Chapter 2\n",
        "* NumPy 是一個用於數值計算的 Python 套件，提供了多種功能，特別適用於處理大規模的數據集合和矩陣運算。在科學計算、機器學習、數據分析等領域有著廣泛的應用。\n",
        "* https://numpy.org/\n",
        "* https://numpy.org/doc/stable/user/index.html"
      ]
    },
    {
      "cell_type": "code",
      "execution_count": null,
      "metadata": {
        "id": "AERmn2WWxDwg"
      },
      "outputs": [],
      "source": [
        "# 安裝套件\n",
        "# ! pip install numpy"
      ]
    },
    {
      "cell_type": "code",
      "execution_count": 1,
      "metadata": {
        "id": "5YiPblVAxDwh"
      },
      "outputs": [],
      "source": [
        "# 宣告並載入套件\n",
        "import numpy as np\n",
        "import random"
      ]
    },
    {
      "cell_type": "markdown",
      "metadata": {
        "id": "sLpcGYYtxDwh"
      },
      "source": [
        "# Numpy的速度"
      ]
    },
    {
      "cell_type": "code",
      "execution_count": 2,
      "metadata": {
        "id": "O8FD_3CmxDwi"
      },
      "outputs": [],
      "source": [
        "# 產生大量的測試用資料\n",
        "x = random.sample(range(0, 1000000), 1000000)"
      ]
    },
    {
      "cell_type": "markdown",
      "metadata": {
        "id": "sOaEjUGZxDwi"
      },
      "source": [
        "### 使用Python原生程式進行大量計算所需時間"
      ]
    },
    {
      "cell_type": "code",
      "execution_count": 3,
      "metadata": {
        "id": "goEBh7LtxDwi"
      },
      "outputs": [],
      "source": [
        "import statistics"
      ]
    },
    {
      "cell_type": "code",
      "execution_count": 4,
      "metadata": {
        "colab": {
          "base_uri": "https://localhost:8080/"
        },
        "id": "evrj0_b_xDwi",
        "outputId": "bf44779f-49fa-46b7-f994-817ca7e182ec"
      },
      "outputs": [
        {
          "output_type": "stream",
          "name": "stdout",
          "text": [
            "CPU times: user 478 ms, sys: 0 ns, total: 478 ms\n",
            "Wall time: 479 ms\n"
          ]
        },
        {
          "output_type": "execute_result",
          "data": {
            "text/plain": [
              "499999.5"
            ]
          },
          "metadata": {},
          "execution_count": 4
        }
      ],
      "source": [
        "%%time\n",
        "statistics.mean(x)"
      ]
    },
    {
      "cell_type": "markdown",
      "metadata": {
        "id": "LzQ_6kv4xDwj"
      },
      "source": [
        "### 使用Numpy進行同樣計算所需的時間"
      ]
    },
    {
      "cell_type": "code",
      "execution_count": 5,
      "metadata": {
        "id": "i76fbKLnxDwj"
      },
      "outputs": [],
      "source": [
        "nx = np.array(x)"
      ]
    },
    {
      "cell_type": "code",
      "execution_count": 6,
      "metadata": {
        "colab": {
          "base_uri": "https://localhost:8080/"
        },
        "id": "eaLxiHdaxDwj",
        "outputId": "f1914f3e-9024-4979-8f06-f2f9bf16b684"
      },
      "outputs": [
        {
          "output_type": "stream",
          "name": "stdout",
          "text": [
            "CPU times: user 2.4 ms, sys: 0 ns, total: 2.4 ms\n",
            "Wall time: 2.41 ms\n"
          ]
        },
        {
          "output_type": "execute_result",
          "data": {
            "text/plain": [
              "499999.5"
            ]
          },
          "metadata": {},
          "execution_count": 6
        }
      ],
      "source": [
        "%%time\n",
        "nx.mean()"
      ]
    },
    {
      "cell_type": "markdown",
      "metadata": {
        "id": "hRmRKhp8xDwj"
      },
      "source": [
        "# 建立Numpy Array"
      ]
    },
    {
      "cell_type": "code",
      "execution_count": 7,
      "metadata": {
        "colab": {
          "base_uri": "https://localhost:8080/"
        },
        "id": "sry467A_xDwj",
        "outputId": "307de6f9-0e1b-467c-8b29-093abe43b033"
      },
      "outputs": [
        {
          "output_type": "execute_result",
          "data": {
            "text/plain": [
              "array([1, 2, 3, 4, 5])"
            ]
          },
          "metadata": {},
          "execution_count": 7
        }
      ],
      "source": [
        "# 整數的陣列\n",
        "nx1 = np.array([1,2,3,4,5])\n",
        "nx1"
      ]
    },
    {
      "cell_type": "code",
      "execution_count": 8,
      "metadata": {
        "colab": {
          "base_uri": "https://localhost:8080/"
        },
        "id": "Rp4atwLJxDwk",
        "outputId": "bceb34e9-d1ba-4ade-a60f-84c8dfc9cb95"
      },
      "outputs": [
        {
          "output_type": "execute_result",
          "data": {
            "text/plain": [
              "array([1. , 2. , 3.2, 4. , 5. ])"
            ]
          },
          "metadata": {},
          "execution_count": 8
        }
      ],
      "source": [
        "# 浮點數的陣列\n",
        "x = [1.0, 2, 3.2, 4, 5]\n",
        "nx2 = np.array(x)\n",
        "nx2"
      ]
    },
    {
      "cell_type": "code",
      "execution_count": 16,
      "metadata": {
        "colab": {
          "base_uri": "https://localhost:8080/"
        },
        "id": "4XcFXPixxDwk",
        "outputId": "da1f5ce6-c166-4cb6-8968-cd81769ebb7c"
      },
      "outputs": [
        {
          "output_type": "stream",
          "name": "stdout",
          "text": [
            "[ 2  4  6  8 10 12]\n",
            "[ 2  4  6  8 10 12]\n"
          ]
        }
      ],
      "source": [
        "# 練習題\n",
        "# 請建立一個 2~12之間全部偶數的陣列\n",
        "# start : 從某數開始，預設為0\n",
        "# stop : 到某數停止(不包含)\n",
        "# step : 間格多少\n",
        "# dtype : bool(布林值), int(整數), float(浮點數), complex(複數)\n",
        "x = [2, 4, 6, 8, 10, 12]\n",
        "print(np.array(x))\n",
        "x = np.arange(2, 13, 2, int)\n",
        "print(x)"
      ]
    },
    {
      "cell_type": "markdown",
      "metadata": {
        "id": "AfSGITFrxDwk"
      },
      "source": [
        "Python List 中每個元素都可以是不同的資料型態"
      ]
    },
    {
      "cell_type": "code",
      "execution_count": 17,
      "metadata": {
        "colab": {
          "base_uri": "https://localhost:8080/"
        },
        "id": "Rkgz86GsxDwk",
        "outputId": "59523cc7-b9d8-48e2-8bcd-cc9f86ad0342"
      },
      "outputs": [
        {
          "output_type": "execute_result",
          "data": {
            "text/plain": [
              "numpy.int64"
            ]
          },
          "metadata": {},
          "execution_count": 17
        }
      ],
      "source": [
        "type(x[0])"
      ]
    },
    {
      "cell_type": "code",
      "execution_count": 18,
      "metadata": {
        "colab": {
          "base_uri": "https://localhost:8080/"
        },
        "id": "8XhtKgKFxDwk",
        "outputId": "09b672f7-4be8-4801-e55a-33eafbfd24e7"
      },
      "outputs": [
        {
          "output_type": "execute_result",
          "data": {
            "text/plain": [
              "numpy.int64"
            ]
          },
          "metadata": {},
          "execution_count": 18
        }
      ],
      "source": [
        "type(x[1])"
      ]
    },
    {
      "cell_type": "markdown",
      "metadata": {
        "id": "rc1CnlAqxDwk"
      },
      "source": [
        "但是Numpy底層是以原生的C語言array來儲存資料，所以必須同樣的資料型態"
      ]
    },
    {
      "cell_type": "code",
      "execution_count": null,
      "metadata": {
        "id": "2sc_OZgRxDwk"
      },
      "outputs": [],
      "source": [
        "nx1.dtype"
      ]
    },
    {
      "cell_type": "code",
      "execution_count": null,
      "metadata": {
        "id": "yVfFn4XWxDwk"
      },
      "outputs": [],
      "source": [
        "nx2.dtype"
      ]
    },
    {
      "cell_type": "markdown",
      "metadata": {
        "id": "OWiY937exDwl"
      },
      "source": [
        "### 單一變數時 C語言與Python的儲存差異\n",
        "![%E5%9C%96%E7%89%87.png](attachment:%E5%9C%96%E7%89%87.png)\n",
        "圖片來源 Python Data Science Handbook\n",
        "\n",
        "\n"
      ]
    },
    {
      "cell_type": "markdown",
      "metadata": {
        "id": "UufbwsWJxDwl"
      },
      "source": [
        "### 陣列資料下 Numpy 與 Python的儲存差異\n",
        "![%E5%9C%96%E7%89%87.png](attachment:%E5%9C%96%E7%89%87.png)\n",
        "圖片來源 Python Data Science Handbook\n",
        "\n",
        "\n"
      ]
    },
    {
      "cell_type": "code",
      "execution_count": 19,
      "metadata": {
        "colab": {
          "base_uri": "https://localhost:8080/"
        },
        "id": "jCYILXL3xDwl",
        "outputId": "1d926ab7-a818-40bf-9d5c-89da00663a4f"
      },
      "outputs": [
        {
          "output_type": "execute_result",
          "data": {
            "text/plain": [
              "array([1., 2., 3., 4., 5.])"
            ]
          },
          "metadata": {},
          "execution_count": 19
        }
      ],
      "source": [
        "# 指定資料型態\n",
        "x = [1,2,3,4,5]\n",
        "nx = np.array(x,dtype='float64')\n",
        "nx"
      ]
    },
    {
      "cell_type": "code",
      "execution_count": 20,
      "metadata": {
        "colab": {
          "base_uri": "https://localhost:8080/"
        },
        "id": "D088Yx73xDwl",
        "outputId": "219492d8-780b-4275-f60b-2e1c409564a6"
      },
      "outputs": [
        {
          "output_type": "stream",
          "name": "stdout",
          "text": [
            "[1 3 4 2]\n"
          ]
        }
      ],
      "source": [
        "# 練習題\n",
        "# 請修改下面的程式碼，讓nx陣列裡的數值都是整數\n",
        "x = [1.2, 3.5, 4.2, 2.1]\n",
        "nx = np.array(x)\n",
        "nx = np.array(x,dtype='int64')\n",
        "print(nx)"
      ]
    },
    {
      "cell_type": "markdown",
      "metadata": {
        "id": "A8xZRWPpxDwl"
      },
      "source": [
        "### Numpy的可用數值型態\n",
        "資料來源 Python Data Science Handbook\n",
        "\n",
        "| Data type\t    | Description |\n",
        "|---------------|-------------|\n",
        "| ``bool_``     | Boolean (True or False) stored as a byte |\n",
        "| ``int_``      | Default integer type (same as C ``long``; normally either ``int64`` or ``int32``)|\n",
        "| ``intc``      | Identical to C ``int`` (normally ``int32`` or ``int64``)|\n",
        "| ``intp``      | Integer used for indexing (same as C ``ssize_t``; normally either ``int32`` or ``int64``)|\n",
        "| ``int8``      | Byte (-128 to 127)|\n",
        "| ``int16``     | Integer (-32768 to 32767)|\n",
        "| ``int32``     | Integer (-2147483648 to 2147483647)|\n",
        "| ``int64``     | Integer (-9223372036854775808 to 9223372036854775807)|\n",
        "| ``uint8``     | Unsigned integer (0 to 255)|\n",
        "| ``uint16``    | Unsigned integer (0 to 65535)|\n",
        "| ``uint32``    | Unsigned integer (0 to 4294967295)|\n",
        "| ``uint64``    | Unsigned integer (0 to 18446744073709551615)|\n",
        "| ``float_``    | Shorthand for ``float64``.|\n",
        "| ``float16``   | Half precision float: sign bit, 5 bits exponent, 10 bits mantissa|\n",
        "| ``float32``   | Single precision float: sign bit, 8 bits exponent, 23 bits mantissa|\n",
        "| ``float64``   | Double precision float: sign bit, 11 bits exponent, 52 bits mantissa|\n",
        "| ``complex_``  | Shorthand for ``complex128``.|\n",
        "| ``complex64`` | Complex number, represented by two 32-bit floats|\n",
        "| ``complex128``| Complex number, represented by two 64-bit floats|"
      ]
    },
    {
      "cell_type": "code",
      "execution_count": 21,
      "metadata": {
        "colab": {
          "base_uri": "https://localhost:8080/"
        },
        "id": "umc1B1ZhxDwl",
        "outputId": "0614653c-3ed5-468f-8052-bf5c68b20ca9"
      },
      "outputs": [
        {
          "output_type": "execute_result",
          "data": {
            "text/plain": [
              "array([[1, 2, 3],\n",
              "       [4, 5, 6],\n",
              "       [7, 8, 9]])"
            ]
          },
          "metadata": {},
          "execution_count": 21
        }
      ],
      "source": [
        "# 二維陣列\n",
        "x = [[1,2,3], [4,5,6], [7,8,9]]\n",
        "nx = np.array(x)\n",
        "nx"
      ]
    },
    {
      "cell_type": "code",
      "execution_count": null,
      "metadata": {
        "id": "ifqmzcs1xDwl"
      },
      "outputs": [],
      "source": [
        "# 產生固定數值的陣列\n",
        "np.zeros(5)"
      ]
    },
    {
      "cell_type": "code",
      "execution_count": null,
      "metadata": {
        "id": "ZMgNmxTkxDwl"
      },
      "outputs": [],
      "source": [
        "np.ones(5)"
      ]
    },
    {
      "cell_type": "code",
      "execution_count": null,
      "metadata": {
        "id": "HHPpTL0NxDwm"
      },
      "outputs": [],
      "source": [
        "np.full(5, 3.1415)"
      ]
    },
    {
      "cell_type": "code",
      "execution_count": null,
      "metadata": {
        "id": "QYqMzt9fxDwm"
      },
      "outputs": [],
      "source": [
        "# 產生固定數值得多維陣列\n",
        "np.full((3,4), 2.17)"
      ]
    },
    {
      "cell_type": "code",
      "execution_count": null,
      "metadata": {
        "id": "op8HAwk4xDwm"
      },
      "outputs": [],
      "source": [
        "# 練習題\n",
        "# 請產生一個 5 x 3全部值為 1 的陣列"
      ]
    },
    {
      "cell_type": "code",
      "execution_count": null,
      "metadata": {
        "id": "m7bhwnNIxDwm"
      },
      "outputs": [],
      "source": [
        "#產生數列\n",
        "np.arange(0, 30, 3)"
      ]
    },
    {
      "cell_type": "code",
      "execution_count": null,
      "metadata": {
        "id": "7YljfXh8xDwm"
      },
      "outputs": [],
      "source": [
        "#產生均分的數列\n",
        "np.linspace(0, 1, 5)"
      ]
    },
    {
      "cell_type": "code",
      "execution_count": 25,
      "metadata": {
        "colab": {
          "base_uri": "https://localhost:8080/"
        },
        "id": "LKByxorRxDwm",
        "outputId": "78d37de4-817b-4c72-c847-569fbf7da702"
      },
      "outputs": [
        {
          "output_type": "stream",
          "name": "stdout",
          "text": [
            "[  0  10  20  30  40  50  60  70  80  90 100]\n"
          ]
        }
      ],
      "source": [
        "# 練習題\n",
        "# 請產生 [0, 10, 20, 30, ...., 90, 100] 的陣列\n",
        "result_array = np.arange(0, 101, 10)\n",
        "print(result_array)"
      ]
    },
    {
      "cell_type": "code",
      "execution_count": null,
      "metadata": {
        "id": "YX09_iJDxDwm"
      },
      "outputs": [],
      "source": [
        "#產生隨機數列\n",
        "np.random.random((3, 3))"
      ]
    },
    {
      "cell_type": "code",
      "execution_count": 30,
      "metadata": {
        "colab": {
          "base_uri": "https://localhost:8080/"
        },
        "id": "m1XuUutmxDwm",
        "outputId": "e8ffc1da-124c-4ef1-cb8d-696b28be536e"
      },
      "outputs": [
        {
          "output_type": "stream",
          "name": "stdout",
          "text": [
            "result_array1 =  (array([[0.02415311, 0.16941419, 0.0467864 , 0.15278604, 0.1110142 ],\n",
            "       [0.07460316, 0.0974089 , 0.14044826, 0.08828406, 0.04204142],\n",
            "       [0.12683506, 0.178953  , 0.16565011, 0.17492159, 0.0391102 ],\n",
            "       [0.15012124, 0.16490746, 0.15896141, 0.05059562, 0.02692674]]), 0.5)\n",
            "result_array2 =  [[0.41560112 0.42415245 0.38204475 0.40730691 0.43566127]\n",
            " [0.24178682 0.20133413 0.4629888  0.24998143 0.30799894]\n",
            " [0.33855465 0.41189728 0.24870872 0.25554322 0.34514167]\n",
            " [0.26966034 0.27521355 0.49664615 0.41098885 0.43457263]]\n"
          ]
        }
      ],
      "source": [
        "# 練習題\n",
        "# 請產生一個 4x5的陣列 裡面的值都隨機的介於 0.2 ~ 0.5 之間\n",
        "result_array1 = np.random.random((4, 5)) * 0.2, 0.5\n",
        "print(\"result_array1 = \", result_array1)\n",
        "result_array2 = np.random.uniform(0.2, 0.5, size = (4, 5))\n",
        "print(\"result_array2 = \", result_array2)"
      ]
    },
    {
      "cell_type": "code",
      "execution_count": 38,
      "metadata": {
        "colab": {
          "base_uri": "https://localhost:8080/"
        },
        "id": "ilhsq_U5xDwm",
        "outputId": "de2c1823-00ef-498a-e37d-315b2bdb8eed"
      },
      "outputs": [
        {
          "output_type": "execute_result",
          "data": {
            "text/plain": [
              "array([[-0.19588487, -0.74260636,  1.50531832],\n",
              "       [-0.80401177, -0.35046204,  1.96846138],\n",
              "       [ 0.67579793, -1.52464248,  0.00554716]])"
            ]
          },
          "metadata": {},
          "execution_count": 38
        }
      ],
      "source": [
        "#產生符合高斯分布的隨機數列\n",
        "# 第一個參數 mean\n",
        "# 第二個參數 sd\n",
        "np.random.normal(0, 1, (3, 3))"
      ]
    },
    {
      "cell_type": "markdown",
      "metadata": {
        "id": "iXxJ0wNOxDwn"
      },
      "source": [
        "![%E5%9C%96%E7%89%87-4.png](attachment:%E5%9C%96%E7%89%87-4.png)"
      ]
    },
    {
      "cell_type": "code",
      "execution_count": null,
      "metadata": {
        "id": "W-ujKTA4xDws"
      },
      "outputs": [],
      "source": [
        "# 練習題\n",
        "# 假設男性平均身高為 170公分，標準差為5公分\n",
        "# 請產生 7 個常態分佈下隨機的男性身高數值\n",
        "result_array1 = np.random.normal(170, 5, 7)\n",
        "print(\"result_array1 = \", result_array1)\n",
        "result_array2 = np.random.randint(170, 5, 7)\n",
        "print(\"result_array2 = \", result_array2)"
      ]
    },
    {
      "cell_type": "code",
      "execution_count": null,
      "metadata": {
        "id": "dFJ0ZhSYxDws"
      },
      "outputs": [],
      "source": [
        "# 產生指定範圍內的隨機整數數列\n",
        "np.random.randint(0, 10, (3, 3))"
      ]
    },
    {
      "cell_type": "code",
      "execution_count": 34,
      "metadata": {
        "colab": {
          "base_uri": "https://localhost:8080/"
        },
        "id": "wkn83_9qxDws",
        "outputId": "2f9d8933-7cba-42b4-fe66-e66041a34b3c"
      },
      "outputs": [
        {
          "output_type": "stream",
          "name": "stdout",
          "text": [
            "result_array1 =  [6 4 3 3 4]\n"
          ]
        }
      ],
      "source": [
        "# 練習題\n",
        "# 請模擬一個6面骰子擲出 5 次的結果\n",
        "result_array1 = np.random.randint(1, 7, 5)\n",
        "print(\"result_array1 = \", result_array1)"
      ]
    },
    {
      "cell_type": "code",
      "execution_count": 36,
      "metadata": {
        "colab": {
          "base_uri": "https://localhost:8080/"
        },
        "id": "aMI35rYzxDws",
        "outputId": "cdbb63c4-0b0f-4328-e8c4-54b52731649b"
      },
      "outputs": [
        {
          "output_type": "execute_result",
          "data": {
            "text/plain": [
              "array([[1., 0., 0.],\n",
              "       [0., 1., 0.],\n",
              "       [0., 0., 1.]])"
            ]
          },
          "metadata": {},
          "execution_count": 36
        }
      ],
      "source": [
        "np.eye(3)"
      ]
    },
    {
      "cell_type": "markdown",
      "metadata": {
        "id": "3kyGagEaxDws"
      },
      "source": [
        "## Numpy數列屬性"
      ]
    },
    {
      "cell_type": "code",
      "execution_count": null,
      "metadata": {
        "id": "tLqLgGvaxDws"
      },
      "outputs": [],
      "source": [
        "nx = np.random.randint(10, size=(3, 4))\n",
        "nx"
      ]
    },
    {
      "cell_type": "code",
      "execution_count": null,
      "metadata": {
        "id": "s4UQyH1nxDws"
      },
      "outputs": [],
      "source": [
        "nx.ndim #數列維度"
      ]
    },
    {
      "cell_type": "code",
      "execution_count": null,
      "metadata": {
        "id": "3r3g8IxMxDws"
      },
      "outputs": [],
      "source": [
        "nx.shape"
      ]
    },
    {
      "cell_type": "code",
      "execution_count": null,
      "metadata": {
        "id": "KfJEqOSMxDws"
      },
      "outputs": [],
      "source": [
        "nx.size"
      ]
    },
    {
      "cell_type": "code",
      "execution_count": null,
      "metadata": {
        "id": "ufKTRRihxDws"
      },
      "outputs": [],
      "source": [
        "nx.itemsize"
      ]
    },
    {
      "cell_type": "code",
      "execution_count": null,
      "metadata": {
        "id": "J69qw2uRxDws"
      },
      "outputs": [],
      "source": [
        "nx.nbytes"
      ]
    },
    {
      "cell_type": "markdown",
      "metadata": {
        "id": "HJ8bK-hSxDws"
      },
      "source": [
        "## Numpy取值"
      ]
    },
    {
      "cell_type": "code",
      "execution_count": 41,
      "metadata": {
        "colab": {
          "base_uri": "https://localhost:8080/"
        },
        "id": "S5eT8UTHxDws",
        "outputId": "b7719b7b-b325-4636-f2a5-6ebf7bc7cdff"
      },
      "outputs": [
        {
          "output_type": "execute_result",
          "data": {
            "text/plain": [
              "array([[5, 1, 2, 3],\n",
              "       [9, 7, 8, 5],\n",
              "       [7, 0, 0, 0]])"
            ]
          },
          "metadata": {},
          "execution_count": 41
        }
      ],
      "source": [
        "x = np.random.randint(0, 10, (3, 4))\n",
        "x"
      ]
    },
    {
      "cell_type": "code",
      "execution_count": null,
      "metadata": {
        "id": "U4J01zw4xDwt"
      },
      "outputs": [],
      "source": [
        "x[0]"
      ]
    },
    {
      "cell_type": "code",
      "execution_count": null,
      "metadata": {
        "id": "X9tJnDy2xDwt"
      },
      "outputs": [],
      "source": [
        "x[0,2]"
      ]
    },
    {
      "cell_type": "code",
      "execution_count": null,
      "metadata": {
        "id": "pvtmQiUlxDwt"
      },
      "outputs": [],
      "source": [
        "x[-1]"
      ]
    },
    {
      "cell_type": "code",
      "execution_count": null,
      "metadata": {
        "id": "l7zyq38sxDwt"
      },
      "outputs": [],
      "source": [
        "x[1,1] = -4.5\n",
        "x"
      ]
    },
    {
      "cell_type": "code",
      "execution_count": 42,
      "metadata": {
        "colab": {
          "base_uri": "https://localhost:8080/"
        },
        "id": "hCMfa-WPxDwt",
        "outputId": "8e1a3d52-6f9a-4181-9d6e-e09afdf1ad21"
      },
      "outputs": [
        {
          "output_type": "execute_result",
          "data": {
            "text/plain": [
              "array([[8, 5],\n",
              "       [0, 0]])"
            ]
          },
          "metadata": {},
          "execution_count": 42
        }
      ],
      "source": [
        "x[1:3,2:4]"
      ]
    },
    {
      "cell_type": "code",
      "execution_count": null,
      "metadata": {
        "id": "9uSxzFJ8xDwt"
      },
      "outputs": [],
      "source": [
        "x[1:3,:]"
      ]
    },
    {
      "cell_type": "code",
      "execution_count": 44,
      "metadata": {
        "colab": {
          "base_uri": "https://localhost:8080/"
        },
        "id": "MKq0ets-xDwt",
        "outputId": "2cfbe5cf-81f0-45b0-c04b-4b38bfeb739e"
      },
      "outputs": [
        {
          "output_type": "stream",
          "name": "stdout",
          "text": [
            "[25 36 27 89 86 66 78  9 89 47]\n",
            "[ 9 25 27 36 47 66 78 86 89 89]\n",
            "[ 9 89 47]\n"
          ]
        }
      ],
      "source": [
        "# 練習題\n",
        "# xt 為全班這次的考試成績，請取出前三名最高的成績\n",
        "# 排序可以使用 np.sort(xt)\n",
        "xt = np.random.randint(0, 100, 10)\n",
        "print(xt)\n",
        "print(np.sort(xt))\n",
        "print(xt[-3:])"
      ]
    },
    {
      "cell_type": "markdown",
      "metadata": {
        "id": "T1lMACE9xDwu"
      },
      "source": [
        "### 修改數列切片內容會影響到原本的數列"
      ]
    },
    {
      "cell_type": "code",
      "execution_count": null,
      "metadata": {
        "id": "QtToEv6WxDwu"
      },
      "outputs": [],
      "source": [
        "y = x[1:3,2:4]\n",
        "y"
      ]
    },
    {
      "cell_type": "code",
      "execution_count": null,
      "metadata": {
        "id": "2-2JM6ohxDwu"
      },
      "outputs": [],
      "source": [
        "# 修改切片出來的值\n",
        "y[0,0] = 3\n",
        "y"
      ]
    },
    {
      "cell_type": "code",
      "execution_count": null,
      "metadata": {
        "id": "zoCdnMhxxDwu"
      },
      "outputs": [],
      "source": [
        "#原本的數列跟著改變\n",
        "x"
      ]
    },
    {
      "cell_type": "markdown",
      "metadata": {
        "id": "IZdnI0f8xDwu"
      },
      "source": [
        "### 如果不想要引響原本的資料，可以用複製"
      ]
    },
    {
      "cell_type": "code",
      "execution_count": null,
      "metadata": {
        "id": "ZC8WdRNCxDwu"
      },
      "outputs": [],
      "source": [
        "y2 = y.copy()\n",
        "y2[0,0] = 7\n",
        "y2"
      ]
    },
    {
      "cell_type": "code",
      "execution_count": null,
      "metadata": {
        "id": "ptHOTVgTxDwu"
      },
      "outputs": [],
      "source": [
        "y"
      ]
    },
    {
      "cell_type": "markdown",
      "metadata": {
        "id": "j3bPOhOMxDwu"
      },
      "source": [
        "### 改變數列形狀"
      ]
    },
    {
      "cell_type": "code",
      "execution_count": null,
      "metadata": {
        "id": "rpr3Gul6xDwu"
      },
      "outputs": [],
      "source": [
        "x = np.random.randint(0, 10, (3, 4))\n",
        "x"
      ]
    },
    {
      "cell_type": "code",
      "execution_count": null,
      "metadata": {
        "id": "MSDCRzgIxDwu"
      },
      "outputs": [],
      "source": [
        "y = x.reshape(12)\n",
        "y"
      ]
    },
    {
      "cell_type": "code",
      "execution_count": null,
      "metadata": {
        "id": "DUk1zAF7xDwu"
      },
      "outputs": [],
      "source": [
        "# 練習題\n",
        "# 請分別將x改變成 4x3 跟 2x6 的矩陣\n",
        "x = np.random.randint(0, 10, (3, 4))\n",
        "print(x)"
      ]
    },
    {
      "cell_type": "code",
      "execution_count": null,
      "metadata": {
        "id": "xriuQRCwxDwu"
      },
      "outputs": [],
      "source": [
        "# 就算修改的數列的形狀，還是一樣會影響原先的資料\n",
        "y[0] = -1\n",
        "y"
      ]
    },
    {
      "cell_type": "code",
      "execution_count": null,
      "metadata": {
        "id": "atTPxOJAxDwv"
      },
      "outputs": [],
      "source": [
        "x"
      ]
    },
    {
      "cell_type": "code",
      "execution_count": null,
      "metadata": {
        "id": "9tD3NLyvxDwv"
      },
      "outputs": [],
      "source": [
        "x.reshape((2,3,2))"
      ]
    },
    {
      "cell_type": "code",
      "execution_count": null,
      "metadata": {
        "id": "zzkiQcZ2xDwv"
      },
      "outputs": [],
      "source": [
        "#修改後的數列大小必須一樣\n",
        "x.reshape((4,4))"
      ]
    },
    {
      "cell_type": "markdown",
      "metadata": {
        "id": "f_4BTtXPxDwv"
      },
      "source": [
        "## 數列結合"
      ]
    },
    {
      "cell_type": "code",
      "execution_count": 45,
      "metadata": {
        "colab": {
          "base_uri": "https://localhost:8080/"
        },
        "id": "crYxwl_BxDwv",
        "outputId": "6945a5a1-7f45-4da5-bb1f-f1083a1a14e9"
      },
      "outputs": [
        {
          "output_type": "execute_result",
          "data": {
            "text/plain": [
              "array([[1, 2, 3],\n",
              "       [4, 5, 6]])"
            ]
          },
          "metadata": {},
          "execution_count": 45
        }
      ],
      "source": [
        "x1 = np.array([1,2,3])\n",
        "x2 = np.array([4,5,6])\n",
        "x3 = np.array([x1,x2])\n",
        "x3"
      ]
    },
    {
      "cell_type": "code",
      "execution_count": 46,
      "metadata": {
        "colab": {
          "base_uri": "https://localhost:8080/"
        },
        "id": "g3YhkmNBxDwv",
        "outputId": "5c002dc2-490f-48c4-ca84-8e2fdef6758d"
      },
      "outputs": [
        {
          "output_type": "execute_result",
          "data": {
            "text/plain": [
              "array([1, 2, 3, 4, 5, 6])"
            ]
          },
          "metadata": {},
          "execution_count": 46
        }
      ],
      "source": [
        "x1 = np.array([1,2,3])\n",
        "x2 = np.array([4,5,6])\n",
        "x3 = np.concatenate([x1,x2])\n",
        "x3"
      ]
    },
    {
      "cell_type": "code",
      "execution_count": null,
      "metadata": {
        "id": "Sj5OE9RkxDwv"
      },
      "outputs": [],
      "source": [
        "# 修改concatenate後的數列\n",
        "x3[0] = -1\n",
        "x3"
      ]
    },
    {
      "cell_type": "code",
      "execution_count": null,
      "metadata": {
        "id": "YzmUTlh4xDwv"
      },
      "outputs": [],
      "source": [
        "# 不會引響到原先的數列\n",
        "x1"
      ]
    },
    {
      "cell_type": "code",
      "execution_count": null,
      "metadata": {
        "id": "4mN-euoFxDwx"
      },
      "outputs": [],
      "source": [
        "# 練習題\n",
        "# 問題\n",
        "# 使用下面方法結合成的x3，如果修改值會影響到x1嗎？\n",
        "x1 = np.array([1,2,3])\n",
        "x2 = np.array([4,5,6])\n",
        "x3 = np.array([x1,x2])"
      ]
    },
    {
      "cell_type": "code",
      "execution_count": null,
      "metadata": {
        "id": "thjwSrgjxDwx"
      },
      "outputs": [],
      "source": [
        "# 多維數列的結合\n",
        "x1 = np.array([[1, 2, 3], [4, 5, 6]])\n",
        "x3 = np.concatenate([x1,x1])\n",
        "x3"
      ]
    },
    {
      "cell_type": "code",
      "execution_count": null,
      "metadata": {
        "id": "loT8ZS84xDwx"
      },
      "outputs": [],
      "source": [
        "# 改變結合的方向(軸、維度)\n",
        "x3 = np.concatenate([x1,x1], axis=1)\n",
        "x3"
      ]
    },
    {
      "cell_type": "code",
      "execution_count": 47,
      "metadata": {
        "colab": {
          "base_uri": "https://localhost:8080/"
        },
        "id": "ENy5tG8mxDwy",
        "outputId": "e224ab6e-8ddb-4786-84d1-35a0728d6cac"
      },
      "outputs": [
        {
          "output_type": "stream",
          "name": "stdout",
          "text": [
            "x1 =  [[[5 7 9]\n",
            "  [2 8 7]]\n",
            "\n",
            " [[3 2 7]\n",
            "  [0 2 6]]]\n",
            "x1 =  [[[7 0 0 8]\n",
            "  [8 8 1 5]]\n",
            "\n",
            " [[6 7 8 6]\n",
            "  [4 3 8 1]]]\n"
          ]
        }
      ],
      "source": [
        "# 練習題\n",
        "# 請將x1跟x2結合成一個 2 x 2 x 7的矩陣\n",
        "x1 = np.random.randint(0,10,(2,2,3))\n",
        "print('x1 = ', x1)\n",
        "x2 = np.random.randint(0,10,(2,2,4))\n",
        "print('x1 = ', x2)\n"
      ]
    },
    {
      "cell_type": "code",
      "execution_count": null,
      "metadata": {
        "id": "GMkRJDjaxDwy"
      },
      "outputs": [],
      "source": [
        "# 陣列形狀不同時無法用concatenate來結合\n",
        "x1 = np.array([[1, 2, 3], [4, 5, 6]])\n",
        "x2 = np.array([7, 8, 9])\n",
        "print('x1 shape = ', x1.shape)\n",
        "print('x2 shape = ', x2.shape)\n",
        "x3 = np.concatenate([x1,x2])\n",
        "x3"
      ]
    },
    {
      "cell_type": "code",
      "execution_count": null,
      "metadata": {
        "id": "ikP4V7kxxDwy"
      },
      "outputs": [],
      "source": [
        "# 練習題\n",
        "# 請問要如何把 x1 x2 結合成一個 3x3的矩陣？\n",
        "# 提示 可以使用 reshape()\n",
        "x1 = np.array([[1, 2, 3], [4, 5, 6]])\n",
        "x2 = np.array([7, 8, 9])\n",
        "print('x1 shape = ', x1.shape)\n",
        "print('x2 shape = ', x2.shape)\n"
      ]
    },
    {
      "cell_type": "code",
      "execution_count": null,
      "metadata": {
        "id": "oXIImKukxDwy"
      },
      "outputs": [],
      "source": [
        "x3 = np.vstack([x1,x2])\n",
        "x3"
      ]
    },
    {
      "cell_type": "code",
      "execution_count": null,
      "metadata": {
        "id": "OBaMd0q3xDwy"
      },
      "outputs": [],
      "source": [
        "x1 = np.array([[1, 2, 3], [4, 5, 6]])\n",
        "x2 = np.array([[7], [8]])\n",
        "print('x1 shape = ', x1.shape)\n",
        "print('x2 shape = ', x2.shape)\n",
        "x3 = np.hstack([x1,x2])\n",
        "x3"
      ]
    },
    {
      "cell_type": "markdown",
      "metadata": {
        "id": "x5hLPVo1xDwy"
      },
      "source": [
        "## 數列分割"
      ]
    },
    {
      "cell_type": "code",
      "execution_count": 49,
      "metadata": {
        "colab": {
          "base_uri": "https://localhost:8080/"
        },
        "id": "nyFduUvpxDwz",
        "outputId": "ad3a1a11-5f01-496b-dfd1-8c2a4afe4026"
      },
      "outputs": [
        {
          "output_type": "stream",
          "name": "stdout",
          "text": [
            "[1 2 3] [4 5 6 7] [8 9]\n"
          ]
        }
      ],
      "source": [
        "x = [1, 2, 3, 4, 5, 6, 7, 8, 9]\n",
        "x1, x2, x3 = np.split(x, [3, 7])\n",
        "print(x1, x2, x3)"
      ]
    },
    {
      "cell_type": "code",
      "execution_count": 50,
      "metadata": {
        "colab": {
          "base_uri": "https://localhost:8080/"
        },
        "id": "n8JdZm_1xDwz",
        "outputId": "0c3fa065-7db0-43eb-8883-7d7329137258"
      },
      "outputs": [
        {
          "output_type": "execute_result",
          "data": {
            "text/plain": [
              "array([[ 0,  1,  2,  3],\n",
              "       [ 4,  5,  6,  7],\n",
              "       [ 8,  9, 10, 11],\n",
              "       [12, 13, 14, 15]])"
            ]
          },
          "metadata": {},
          "execution_count": 50
        }
      ],
      "source": [
        "grid = np.arange(16).reshape((4, 4))\n",
        "grid"
      ]
    },
    {
      "cell_type": "code",
      "execution_count": 51,
      "metadata": {
        "colab": {
          "base_uri": "https://localhost:8080/"
        },
        "id": "UgfRLQRDxDwz",
        "outputId": "fc1a59fe-f44d-4ffb-d69e-3c8904e2f6bf"
      },
      "outputs": [
        {
          "output_type": "stream",
          "name": "stdout",
          "text": [
            "upper = \n",
            " [[0 1 2 3]\n",
            " [4 5 6 7]]\n",
            "lower = \n",
            " [[ 8  9 10 11]\n",
            " [12 13 14 15]]\n"
          ]
        }
      ],
      "source": [
        "upper, lower = np.vsplit(grid, [2])\n",
        "print('upper = \\n',upper)\n",
        "print('lower = \\n',lower)"
      ]
    },
    {
      "cell_type": "code",
      "execution_count": 52,
      "metadata": {
        "colab": {
          "base_uri": "https://localhost:8080/"
        },
        "id": "L1YLxEKnxDwz",
        "outputId": "8073cfdf-e432-43a2-a8f5-04a04f5a22b9"
      },
      "outputs": [
        {
          "output_type": "stream",
          "name": "stdout",
          "text": [
            "left = \n",
            " [[ 0  1]\n",
            " [ 4  5]\n",
            " [ 8  9]\n",
            " [12 13]]\n",
            "right = \n",
            " [[ 2  3]\n",
            " [ 6  7]\n",
            " [10 11]\n",
            " [14 15]]\n"
          ]
        }
      ],
      "source": [
        "left, right = np.hsplit(grid, [2])\n",
        "print('left = \\n', left)\n",
        "print('right = \\n', right)"
      ]
    },
    {
      "cell_type": "markdown",
      "metadata": {
        "id": "-00bsxNexDwz"
      },
      "source": [
        "# Universal Functions"
      ]
    },
    {
      "cell_type": "markdown",
      "metadata": {
        "id": "TwvQIXrYxDwz"
      },
      "source": [
        "### 速度差異\n",
        "即使使用Numpy來處理數據，根據程式寫法速度還是會有很大的差異"
      ]
    },
    {
      "cell_type": "code",
      "execution_count": 53,
      "metadata": {
        "id": "cB5F4UmMxDwz"
      },
      "outputs": [],
      "source": [
        "x = np.random.random(10000)"
      ]
    },
    {
      "cell_type": "code",
      "execution_count": 54,
      "metadata": {
        "colab": {
          "base_uri": "https://localhost:8080/"
        },
        "id": "sD7ScXtUxDwz",
        "outputId": "5efe731c-c5b5-4f67-e9af-df31aa22f54b"
      },
      "outputs": [
        {
          "output_type": "stream",
          "name": "stdout",
          "text": [
            "CPU times: user 399 ms, sys: 0 ns, total: 399 ms\n",
            "Wall time: 399 ms\n"
          ]
        }
      ],
      "source": [
        "%%time\n",
        "for i in range(100):\n",
        "    y = np.empty(len(x))\n",
        "    for n in range(len(x)):\n",
        "        y[n] = 1/x[n]"
      ]
    },
    {
      "cell_type": "code",
      "execution_count": 55,
      "metadata": {
        "colab": {
          "base_uri": "https://localhost:8080/"
        },
        "id": "lLTpw3XbxDwz",
        "outputId": "5509d52a-b7b4-49a5-cfd3-a646d5ff4b13"
      },
      "outputs": [
        {
          "output_type": "stream",
          "name": "stdout",
          "text": [
            "CPU times: user 2.42 ms, sys: 0 ns, total: 2.42 ms\n",
            "Wall time: 2.47 ms\n"
          ]
        }
      ],
      "source": [
        "%%time\n",
        "for i in range(100):\n",
        "    y = 1 / x\n"
      ]
    },
    {
      "cell_type": "markdown",
      "metadata": {
        "id": "MFMnfODHxDwz"
      },
      "source": [
        "### 使用Numpy內建的函數來進行計算"
      ]
    },
    {
      "cell_type": "code",
      "execution_count": 56,
      "metadata": {
        "colab": {
          "base_uri": "https://localhost:8080/"
        },
        "id": "FEhwRc7QxDwz",
        "outputId": "5bab6649-f013-4593-9e92-733eef7ed925"
      },
      "outputs": [
        {
          "output_type": "stream",
          "name": "stdout",
          "text": [
            "x     = [0 1 2 3]\n",
            "x + 5 = [5 6 7 8]\n",
            "x - 5 = [-5 -4 -3 -2]\n",
            "x * 2 = [0 2 4 6]\n",
            "x / 2 = [0.  0.5 1.  1.5]\n",
            "x // 2 = [0 0 1 1]\n",
            "-x     =  [ 0 -1 -2 -3]\n",
            "x ** 2 =  [0 1 4 9]\n",
            "x % 2  =  [0 1 0 1]\n"
          ]
        }
      ],
      "source": [
        "x = np.arange(4)\n",
        "print(\"x     =\", x)\n",
        "print(\"x + 5 =\", x + 5)\n",
        "print(\"x - 5 =\", x - 5)\n",
        "print(\"x * 2 =\", x * 2)\n",
        "print(\"x / 2 =\", x / 2)\n",
        "print(\"x // 2 =\", x // 2)  # floor division\n",
        "print(\"-x     = \", -x)\n",
        "print(\"x ** 2 = \", x ** 2)\n",
        "print(\"x % 2  = \", x % 2)"
      ]
    },
    {
      "cell_type": "code",
      "execution_count": 57,
      "metadata": {
        "colab": {
          "base_uri": "https://localhost:8080/"
        },
        "id": "LzywwLmTxDw0",
        "outputId": "d89cae97-e6e5-497c-c3ff-1fe0bc1f1f7b"
      },
      "outputs": [
        {
          "output_type": "execute_result",
          "data": {
            "text/plain": [
              "array([-1.  , -2.25, -4.  , -6.25])"
            ]
          },
          "metadata": {},
          "execution_count": 57
        }
      ],
      "source": [
        "# 四則運算\n",
        "-(0.5*x + 1) ** 2"
      ]
    },
    {
      "cell_type": "code",
      "execution_count": 58,
      "metadata": {
        "colab": {
          "base_uri": "https://localhost:8080/"
        },
        "id": "_SZvbHaDxDw0",
        "outputId": "24d5515d-2483-4d2b-a172-b668fa2e712a"
      },
      "outputs": [
        {
          "output_type": "execute_result",
          "data": {
            "text/plain": [
              "array([2, 3, 4, 5])"
            ]
          },
          "metadata": {},
          "execution_count": 58
        }
      ],
      "source": [
        "np.add(x, 2)"
      ]
    },
    {
      "cell_type": "markdown",
      "metadata": {
        "id": "qnyXDQqMxDw0"
      },
      "source": [
        "| Operator\t    | Equivalent ufunc    | Description                           |\n",
        "|---------------|---------------------|---------------------------------------|\n",
        "|``+``          |``np.add``           |Addition (e.g., ``1 + 1 = 2``)         |\n",
        "|``-``          |``np.subtract``      |Subtraction (e.g., ``3 - 2 = 1``)      |\n",
        "|``-``          |``np.negative``      |Unary negation (e.g., ``-2``)          |\n",
        "|``*``          |``np.multiply``      |Multiplication (e.g., ``2 * 3 = 6``)   |\n",
        "|``/``          |``np.divide``        |Division (e.g., ``3 / 2 = 1.5``)       |\n",
        "|``//``         |``np.floor_divide``  |Floor division (e.g., ``3 // 2 = 1``)  |\n",
        "|``**``         |``np.power``         |Exponentiation (e.g., ``2 ** 3 = 8``)  |\n",
        "|``%``          |``np.mod``           |Modulus/remainder (e.g., ``9 % 4 = 1``)|"
      ]
    },
    {
      "cell_type": "code",
      "execution_count": 63,
      "metadata": {
        "colab": {
          "base_uri": "https://localhost:8080/"
        },
        "id": "gfukaafqxDw0",
        "outputId": "5fec3d48-e31b-4773-9c4a-caedb65db81a"
      },
      "outputs": [
        {
          "output_type": "stream",
          "name": "stdout",
          "text": [
            "x的平均值 =  0.12995639352089527\n",
            "x的標準差 =  0.9163583364475424\n"
          ]
        }
      ],
      "source": [
        "# 練習題\n",
        "# 請計算出 x 數列的平均值跟標準差\n",
        "# 提示 np.mean()\n",
        "x = np.random.normal(0,1,100)\n",
        "print(\"x的平均值 = \", np.mean(x))\n",
        "print(\"x的標準差 = \", np.std(x))"
      ]
    },
    {
      "cell_type": "markdown",
      "metadata": {
        "id": "zSzH6HjPxDw0"
      },
      "source": [
        "### 可以直接使用Python的函數"
      ]
    },
    {
      "cell_type": "code",
      "execution_count": 64,
      "metadata": {
        "colab": {
          "base_uri": "https://localhost:8080/"
        },
        "id": "mFq0n4vexDw0",
        "outputId": "ca5c5c97-19af-4b42-91a2-18b49668e56b"
      },
      "outputs": [
        {
          "output_type": "execute_result",
          "data": {
            "text/plain": [
              "array([ 0.10870331, -1.17180924,  0.73642877, ...,  1.28649579,\n",
              "       -0.16120434,  1.19349488])"
            ]
          },
          "metadata": {},
          "execution_count": 64
        }
      ],
      "source": [
        "x = np.random.normal(0,1,10000)\n",
        "x"
      ]
    },
    {
      "cell_type": "code",
      "execution_count": 65,
      "metadata": {
        "colab": {
          "base_uri": "https://localhost:8080/"
        },
        "id": "9HmXeAMTxDw0",
        "outputId": "a212ff9a-7a35-4847-f16f-b55977961a69"
      },
      "outputs": [
        {
          "output_type": "stream",
          "name": "stdout",
          "text": [
            "3.81 µs ± 52.3 ns per loop (mean ± std. dev. of 7 runs, 100000 loops each)\n"
          ]
        },
        {
          "output_type": "execute_result",
          "data": {
            "text/plain": [
              "array([0.10870331, 1.17180924, 0.73642877, ..., 1.28649579, 0.16120434,\n",
              "       1.19349488])"
            ]
          },
          "metadata": {},
          "execution_count": 65
        }
      ],
      "source": [
        "# python原生函數\n",
        "%timeit abs(x)\n",
        "abs(x)"
      ]
    },
    {
      "cell_type": "code",
      "execution_count": 66,
      "metadata": {
        "colab": {
          "base_uri": "https://localhost:8080/"
        },
        "id": "ISs9BxcpxDw0",
        "outputId": "cd9bef3f-6016-42db-8d61-d764f97e3af8"
      },
      "outputs": [
        {
          "output_type": "stream",
          "name": "stdout",
          "text": [
            "5.03 µs ± 856 ns per loop (mean ± std. dev. of 7 runs, 100000 loops each)\n"
          ]
        },
        {
          "output_type": "execute_result",
          "data": {
            "text/plain": [
              "array([0.10870331, 1.17180924, 0.73642877, ..., 1.28649579, 0.16120434,\n",
              "       1.19349488])"
            ]
          },
          "metadata": {},
          "execution_count": 66
        }
      ],
      "source": [
        "# numpy函數\n",
        "%timeit np.abs(x)\n",
        "np.abs(x)"
      ]
    },
    {
      "cell_type": "markdown",
      "metadata": {
        "id": "GPYMViT3xDw0"
      },
      "source": [
        "更多的UFunc API參考文件<BR>\n",
        "https://numpy.org/doc/stable/reference/ufuncs.html#available-ufuncs"
      ]
    },
    {
      "cell_type": "markdown",
      "metadata": {
        "id": "xmCYUWLKxDw0"
      },
      "source": [
        "# 索引(index)操作"
      ]
    },
    {
      "cell_type": "code",
      "execution_count": 67,
      "metadata": {
        "colab": {
          "base_uri": "https://localhost:8080/"
        },
        "id": "nZbkX7pAxDw0",
        "outputId": "64fed1f1-02f8-47cf-ccad-915558023154"
      },
      "outputs": [
        {
          "output_type": "execute_result",
          "data": {
            "text/plain": [
              "array([0, 1, 2, 3, 4, 5, 6, 7, 8, 9])"
            ]
          },
          "metadata": {},
          "execution_count": 67
        }
      ],
      "source": [
        "x = np.arange(10)\n",
        "x"
      ]
    },
    {
      "cell_type": "code",
      "execution_count": 68,
      "metadata": {
        "colab": {
          "base_uri": "https://localhost:8080/"
        },
        "id": "siv1EvknxDw0",
        "outputId": "63584a43-4f89-4e0c-8a9f-e8afeafd624c"
      },
      "outputs": [
        {
          "output_type": "execute_result",
          "data": {
            "text/plain": [
              "[1, 3, 5]"
            ]
          },
          "metadata": {},
          "execution_count": 68
        }
      ],
      "source": [
        "# 這種取值的方法不好\n",
        "[x[1],x[3],x[5]]"
      ]
    },
    {
      "cell_type": "code",
      "execution_count": 69,
      "metadata": {
        "colab": {
          "base_uri": "https://localhost:8080/"
        },
        "id": "Xqi61eGsxDw0",
        "outputId": "9c603f80-924a-40ba-f46c-630f8e793909"
      },
      "outputs": [
        {
          "output_type": "execute_result",
          "data": {
            "text/plain": [
              "array([1, 3, 5])"
            ]
          },
          "metadata": {},
          "execution_count": 69
        }
      ],
      "source": [
        "# 正確的索引取值方法\n",
        "x[[1,3,5]]"
      ]
    },
    {
      "cell_type": "code",
      "execution_count": 70,
      "metadata": {
        "colab": {
          "base_uri": "https://localhost:8080/"
        },
        "id": "inIKa6LKxDw1",
        "outputId": "685d3967-160a-44ce-dc4a-2631f9b88f35"
      },
      "outputs": [
        {
          "output_type": "execute_result",
          "data": {
            "text/plain": [
              "array([1, 3, 5])"
            ]
          },
          "metadata": {},
          "execution_count": 70
        }
      ],
      "source": [
        "# 透過變數傳遞索引\n",
        "index = [1,3,5]\n",
        "x[index]"
      ]
    },
    {
      "cell_type": "code",
      "execution_count": null,
      "metadata": {
        "id": "mEZSCsKQxDw1"
      },
      "outputs": [],
      "source": [
        "# 練習題\n",
        "# 找出 x 之中的偶數\n",
        "x = np.random.randint(0,10,20)\n",
        "print(x)\n"
      ]
    },
    {
      "cell_type": "code",
      "execution_count": 71,
      "metadata": {
        "colab": {
          "base_uri": "https://localhost:8080/"
        },
        "id": "f85DV_GfxDw1",
        "outputId": "67e1234f-38f8-4f3a-c155-824e0cff875d"
      },
      "outputs": [
        {
          "output_type": "stream",
          "name": "stdout",
          "text": [
            "[43 61 17  9 51 55 66 83 48  5 46 92 87 14 38 44 27 89 84 97 48 71 82 68\n",
            " 45 31 32 64 20 24 28 87 96 12 74 83 13 28 30  2 26 70  5 37 11 25 95 85\n",
            "  8 70]\n"
          ]
        },
        {
          "output_type": "execute_result",
          "data": {
            "text/plain": [
              "array([61, 66, 83, 92, 87, 89, 84, 97, 71, 82, 68, 64, 87, 96, 74, 83, 70,\n",
              "       95, 85, 70])"
            ]
          },
          "metadata": {},
          "execution_count": 71
        }
      ],
      "source": [
        "# 練習題\n",
        "# 找出班上同學有達到及格分數的全部成績\n",
        "score = np.random.randint(0,100,50)\n",
        "print(score)\n",
        "score[score >= 60]"
      ]
    },
    {
      "cell_type": "markdown",
      "metadata": {
        "id": "DIQkHI71xDw1"
      },
      "source": [
        "### 利用索引來改變值"
      ]
    },
    {
      "cell_type": "code",
      "execution_count": null,
      "metadata": {
        "id": "fNz8jb7lxDw1"
      },
      "outputs": [],
      "source": [
        "x = np.arange(10)\n",
        "i = np.array([2, 1, 8, 4])\n",
        "x[i] = 99\n",
        "x"
      ]
    },
    {
      "cell_type": "code",
      "execution_count": null,
      "metadata": {
        "id": "B3iWRpGPxDw1"
      },
      "outputs": [],
      "source": [
        "x[i] -= 10\n",
        "x"
      ]
    },
    {
      "cell_type": "code",
      "execution_count": null,
      "metadata": {
        "id": "mEUoAW8AxDw1"
      },
      "outputs": [],
      "source": [
        "# 練習題\n",
        "# 找出班上同學有達到及格分數的全部成績\n",
        "# 請根據score的分數，在ispass上填上 '及格' 或是 '不及格'\n",
        "score = np.random.randint(0,100,50)\n",
        "print(score)\n",
        "ispass = np.full(50, '不知道')\n",
        "ispass"
      ]
    },
    {
      "cell_type": "markdown",
      "metadata": {
        "id": "9FmZhx1GxDw1"
      },
      "source": [
        "### 如果索引值重複可能會有不可預期的問題"
      ]
    },
    {
      "cell_type": "code",
      "execution_count": null,
      "metadata": {
        "id": "lufns3EtxDw1"
      },
      "outputs": [],
      "source": [
        "x = np.zeros(10)\n",
        "x"
      ]
    },
    {
      "cell_type": "code",
      "execution_count": null,
      "metadata": {
        "id": "dqoLMsY6xDw2"
      },
      "outputs": [],
      "source": [
        "x[[0,0]] = [1,2]\n",
        "x"
      ]
    },
    {
      "cell_type": "code",
      "execution_count": null,
      "metadata": {
        "id": "nHpGyyPkxDw2"
      },
      "outputs": [],
      "source": [
        "x = np.zeros(10)\n",
        "i = [2, 3, 3, 4, 4, 4]\n",
        "x[i] += 1\n",
        "x"
      ]
    },
    {
      "cell_type": "code",
      "execution_count": null,
      "metadata": {
        "id": "HRC4WiN1xDw2"
      },
      "outputs": [],
      "source": [
        "x = np.zeros(10)\n",
        "np.add.at(x, i, 1)\n",
        "x"
      ]
    },
    {
      "cell_type": "code",
      "execution_count": null,
      "metadata": {
        "id": "R7_W61OSxDw2"
      },
      "outputs": [],
      "source": [
        "# 使用at()範例\n",
        "np.random.seed(42)\n",
        "x = np.random.randn(100)\n",
        "\n",
        "# compute a histogram by hand\n",
        "bins = np.linspace(-5, 5, 20)\n",
        "counts = np.zeros_like(bins)\n",
        "\n",
        "# find the appropriate bin for each x\n",
        "i = np.searchsorted(bins, x)\n",
        "\n",
        "# add 1 to each of these bins\n",
        "np.add.at(counts, i, 1)\n",
        "\n",
        "import matplotlib.pyplot as plt\n",
        "plt.step(bins, counts)"
      ]
    },
    {
      "cell_type": "markdown",
      "metadata": {
        "id": "kOenmrx2xDw2"
      },
      "source": [
        "## 排序 Sort"
      ]
    },
    {
      "cell_type": "code",
      "execution_count": null,
      "metadata": {
        "id": "VF2YI8VzxDw2"
      },
      "outputs": [],
      "source": [
        "x = np.array([2, 1, 4, 3, 5])\n",
        "np.sort(x)\n",
        "x"
      ]
    },
    {
      "cell_type": "code",
      "execution_count": null,
      "metadata": {
        "id": "avwMxvEVxDw2"
      },
      "outputs": [],
      "source": [
        "x.sort()\n",
        "x"
      ]
    },
    {
      "cell_type": "code",
      "execution_count": null,
      "metadata": {
        "id": "0FJNUPVPxDw2"
      },
      "outputs": [],
      "source": [
        "x = np.array([2, 1, 4, 3, 5])\n",
        "i = np.argsort(x)\n",
        "i"
      ]
    },
    {
      "cell_type": "code",
      "execution_count": null,
      "metadata": {
        "id": "obL7nFdJxDw2"
      },
      "outputs": [],
      "source": [
        "x[i]"
      ]
    },
    {
      "cell_type": "markdown",
      "metadata": {
        "id": "Q7mDMLRBxDw2"
      },
      "source": [
        "### 多維的排序"
      ]
    },
    {
      "cell_type": "code",
      "execution_count": 76,
      "metadata": {
        "colab": {
          "base_uri": "https://localhost:8080/"
        },
        "id": "qhle-ASHxDw2",
        "outputId": "1b820cfa-3e00-4dd7-a993-5fdbfabf19b3"
      },
      "outputs": [
        {
          "output_type": "stream",
          "name": "stdout",
          "text": [
            "[[6 3 7 4 6 9]\n",
            " [2 6 7 4 3 7]\n",
            " [7 2 5 4 1 7]\n",
            " [5 1 4 0 9 5]]\n"
          ]
        }
      ],
      "source": [
        "rand = np.random.RandomState(42)\n",
        "x = rand.randint(0, 10, (4, 6))\n",
        "print(x)"
      ]
    },
    {
      "cell_type": "code",
      "execution_count": 77,
      "metadata": {
        "colab": {
          "base_uri": "https://localhost:8080/"
        },
        "id": "-dfxlAU3xDw3",
        "outputId": "ac3831c2-3648-4062-e3e1-b3696fdc4c36"
      },
      "outputs": [
        {
          "output_type": "execute_result",
          "data": {
            "text/plain": [
              "array([[3, 4, 6, 6, 7, 9],\n",
              "       [2, 3, 4, 6, 7, 7],\n",
              "       [1, 2, 4, 5, 7, 7],\n",
              "       [0, 1, 4, 5, 5, 9]])"
            ]
          },
          "metadata": {},
          "execution_count": 77
        }
      ],
      "source": [
        "np.sort(x)"
      ]
    },
    {
      "cell_type": "code",
      "execution_count": 78,
      "metadata": {
        "colab": {
          "base_uri": "https://localhost:8080/"
        },
        "id": "63qRQSfCxDw3",
        "outputId": "f08678dd-308d-4c6d-af46-8cfbfc80c2fa"
      },
      "outputs": [
        {
          "output_type": "execute_result",
          "data": {
            "text/plain": [
              "array([[2, 1, 4, 0, 1, 5],\n",
              "       [5, 2, 5, 4, 3, 7],\n",
              "       [6, 3, 7, 4, 6, 7],\n",
              "       [7, 6, 7, 4, 9, 9]])"
            ]
          },
          "metadata": {},
          "execution_count": 78
        }
      ],
      "source": [
        "#指定排序的軸\n",
        "np.sort(x, axis=0)"
      ]
    },
    {
      "cell_type": "markdown",
      "metadata": {
        "id": "nZGP_QgSxDw3"
      },
      "source": [
        "## 練習題"
      ]
    },
    {
      "cell_type": "code",
      "execution_count": 75,
      "metadata": {
        "colab": {
          "base_uri": "https://localhost:8080/"
        },
        "id": "Hir8008bxDw3",
        "outputId": "0e14a7c4-498b-48c4-9b87-bd7a61581873"
      },
      "outputs": [
        {
          "output_type": "stream",
          "name": "stdout",
          "text": [
            "[[23 76 87 91 95]\n",
            " [18 45 46 60 95]\n",
            " [ 3 47 71 75 96]\n",
            " [ 1  6 60 69 87]\n",
            " [ 1 21 44 80 81]\n",
            " [11 12 19 40 66]\n",
            " [14 15 30 42 71]\n",
            " [ 3 17 57 59 79]\n",
            " [ 8 38 39 79 83]\n",
            " [ 5 42 44 68 99]]\n"
          ]
        }
      ],
      "source": [
        "# 練習題\n",
        "# 請算出每位學生的五科總分\n",
        "score = np.random.randint(0,100,(10,5))\n",
        "print(np.sort(score))\n"
      ]
    },
    {
      "cell_type": "code",
      "execution_count": null,
      "metadata": {
        "id": "OrjXqebxxDw3"
      },
      "outputs": [],
      "source": [
        "# 練習題\n",
        "# 請算出每位學生的五科平均\n",
        "score = np.random.randint(0,100,(10,5))\n",
        "score"
      ]
    },
    {
      "cell_type": "markdown",
      "metadata": {
        "id": "JwYCbHU5xDw3"
      },
      "source": [
        "# 自主學習內容\n",
        "請參考 Python DataScience Handbook ch2.4之後的章節"
      ]
    }
  ],
  "metadata": {
    "kernelspec": {
      "display_name": "Python 3 (ipykernel)",
      "language": "python",
      "name": "python3"
    },
    "language_info": {
      "codemirror_mode": {
        "name": "ipython",
        "version": 3
      },
      "file_extension": ".py",
      "mimetype": "text/x-python",
      "name": "python",
      "nbconvert_exporter": "python",
      "pygments_lexer": "ipython3",
      "version": "3.12.3"
    },
    "varInspector": {
      "cols": {
        "lenName": 16,
        "lenType": 16,
        "lenVar": 40
      },
      "kernels_config": {
        "python": {
          "delete_cmd_postfix": "",
          "delete_cmd_prefix": "del ",
          "library": "var_list.py",
          "varRefreshCmd": "print(var_dic_list())"
        },
        "r": {
          "delete_cmd_postfix": ") ",
          "delete_cmd_prefix": "rm(",
          "library": "var_list.r",
          "varRefreshCmd": "cat(var_dic_list()) "
        }
      },
      "types_to_exclude": [
        "module",
        "function",
        "builtin_function_or_method",
        "instance",
        "_Feature"
      ],
      "window_display": false
    },
    "colab": {
      "provenance": [],
      "include_colab_link": true
    }
  },
  "nbformat": 4,
  "nbformat_minor": 0
}